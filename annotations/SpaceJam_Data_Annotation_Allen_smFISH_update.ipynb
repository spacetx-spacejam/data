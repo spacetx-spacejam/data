{
 "cells": [
  {
   "cell_type": "code",
   "execution_count": 1,
   "metadata": {},
   "outputs": [
    {
     "data": {
      "text/html": [
       "<style>.container { width:100% !important; }</style>"
      ],
      "text/plain": [
       "<IPython.core.display.HTML object>"
      ]
     },
     "metadata": {},
     "output_type": "display_data"
    }
   ],
   "source": [
    "%matplotlib notebook\n",
    "import napari\n",
    "import pandas as pd\n",
    "import numpy as np\n",
    "from IPython.core.display import display, HTML\n",
    "display(HTML(\"<style>.container { width:100% !important; }</style>\"))\n",
    "from shapely.geometry import Polygon, Point,LineString,  mapping;\n",
    "from shapely.ops import cascaded_union\n",
    "from spacetx_spatial_analysis import polyToGeoJson\n",
    "import json\n",
    "import geojson\n",
    "\n",
    "from matplotlib import pyplot as plt"
   ]
  },
  {
   "cell_type": "markdown",
   "metadata": {},
   "source": [
    "## Load cell x gene data from 1 dataset"
   ]
  },
  {
   "cell_type": "code",
   "execution_count": null,
   "metadata": {},
   "outputs": [],
   "source": [
    "all_cells = pd.read_csv(\"/Users/brian/Downloads/mask_prior/segmentation_counts.tsv\", delimiter = \"\\t\")"
   ]
  },
  {
   "cell_type": "code",
   "execution_count": null,
   "metadata": {},
   "outputs": [],
   "source": [
    "counts = all_cells.T\n",
    "counts.columns = all_cells[\"gene\"]\n",
    "counts = counts[1:]"
   ]
  },
  {
   "cell_type": "code",
   "execution_count": 2,
   "metadata": {},
   "outputs": [],
   "source": [
    "metadata = pd.read_csv(\"/Users/brian/Downloads/mask_prior/segmentation_cell_stats.csv\")"
   ]
  },
  {
   "cell_type": "code",
   "execution_count": 3,
   "metadata": {},
   "outputs": [],
   "source": [
    "metadata[\"x_um\"] = 0.1*metadata[\"x\"]\n",
    "metadata[\"y_um\"] = 0.1*metadata[\"y\"]"
   ]
  },
  {
   "cell_type": "code",
   "execution_count": 4,
   "metadata": {},
   "outputs": [],
   "source": [
    "v = napari.Viewer()"
   ]
  },
  {
   "cell_type": "code",
   "execution_count": 5,
   "metadata": {},
   "outputs": [
    {
     "data": {
      "text/plain": [
       "<Points layer 'Points' at 0x10ba845e0>"
      ]
     },
     "execution_count": 5,
     "metadata": {},
     "output_type": "execute_result"
    }
   ],
   "source": [
    "v.add_points(metadata[[\"x_um\",\"y_um\"]], size=10)"
   ]
  },
  {
   "cell_type": "markdown",
   "metadata": {},
   "source": [
    "# load our annotated the layer locations "
   ]
  },
  {
   "cell_type": "code",
   "execution_count": 77,
   "metadata": {},
   "outputs": [
    {
     "data": {
      "text/plain": [
       "<Shapes layer 'layer annotations' at 0x155985af0>"
      ]
     },
     "execution_count": 77,
     "metadata": {},
     "output_type": "execute_result"
    }
   ],
   "source": [
    "with open(\"Allen_smFISH_annotations_geo.json\",'r') as r:\n",
    "    gcnew = geojson.load(r)\n",
    "\n",
    "shapes_to_add = [np.array(geo[\"coordinates\"][0]) for geo in gcnew[\"geometries\"][1:-1]]\n",
    "column_points = gcnew[\"geometries\"][-1][\"coordinates\"]\n",
    "\n",
    "annotation_names = [g['name'] for g in gcnew[\"geometries\"][1:]]\n",
    "v.add_shapes(shapes_to_add,shape_type='polygon',\n",
    "    edge_width=1,\n",
    "    edge_color='coral',\n",
    "    face_color='royalblue',\n",
    "    name=\"layer annotations\")\n",
    "\n",
    "# for ii,g in enumerate(shapes_to_add[:-1]):\n",
    "#     carray = g\n",
    "#     v.add_shapes([carray],shape_type='polygon',\n",
    "#     edge_width=1,\n",
    "#     edge_color='coral',\n",
    "#     face_color='royalblue',\n",
    "#     name=gcnew[\"geometries\"][ii][\"name\"])\n"
   ]
  },
  {
   "cell_type": "code",
   "execution_count": 78,
   "metadata": {},
   "outputs": [
    {
     "data": {
      "text/plain": [
       "['VISp_I', 'VISp_II/III', 'VISp_IV', 'VISp_V', 'VISp_VI', 'cortical_axis']"
      ]
     },
     "execution_count": 78,
     "metadata": {},
     "output_type": "execute_result"
    }
   ],
   "source": [
    "annotation_names"
   ]
  },
  {
   "cell_type": "code",
   "execution_count": 79,
   "metadata": {},
   "outputs": [
    {
     "name": "stdout",
     "output_type": "stream",
     "text": [
      "[[6895.070696, 5736.902356], [12811.78951, 15864.619246]]\n",
      "dict_keys([0, 1, 2, 3, 4])\n"
     ]
    }
   ],
   "source": [
    "\n",
    "\n",
    "shapes_layer = v.layers[-1]\n",
    "\n",
    "is_in_layer = {ii:[Polygon(p).intersects(Point(a))  for a  in v.layers[0].data] for ii,p in enumerate(shapes_layer.data)}\n",
    "print(column_points)\n",
    "print(is_in_layer.keys())"
   ]
  },
  {
   "cell_type": "code",
   "execution_count": 67,
   "metadata": {},
   "outputs": [],
   "source": [
    "# depth coordinate calculation\n",
    "\n",
    "def depth_coordinate(points_xy, column_axis_points):\n",
    "    \"\"\" \n",
    "    calculate the projection along the column axis vector\n",
    "    assumes that the pia is the first point in column_axis_points\n",
    "    \"\"\"\n",
    "    column_vec = np.diff(column_axis_points, axis = 0)\n",
    "    column_vec = column_vec.T/np.linalg.norm(column_vec,2)\n",
    "    \n",
    "    output_array = np.row_stack(\n",
    "        [np.dot(a_point-column_axis_points[0],column_vec) for a_point in points_xy])\n",
    "    return output_array"
   ]
  },
  {
   "cell_type": "code",
   "execution_count": 80,
   "metadata": {},
   "outputs": [],
   "source": [
    "metadata[\"layer\"] = \"outside_VISp\"\n",
    "for l_key in is_in_layer.keys():\n",
    "    metadata.loc[is_in_layer[l_key],\"layer\"] = annotation_names[l_key]\n",
    "    "
   ]
  },
  {
   "cell_type": "code",
   "execution_count": 81,
   "metadata": {},
   "outputs": [],
   "source": [
    "metadata[\"depth_um\"] = depth_coordinate(metadata[[\"x_um\",\"y_um\"]].values, np.array(column_points)*.1)"
   ]
  },
  {
   "cell_type": "code",
   "execution_count": 82,
   "metadata": {},
   "outputs": [
    {
     "data": {
      "text/plain": [
       "69.67768380830505"
      ]
     },
     "execution_count": 82,
     "metadata": {},
     "output_type": "execute_result"
    }
   ],
   "source": [
    "metadata.loc[metadata[\"layer\"]==\"VISp_I\"][\"depth_um\"].mean()"
   ]
  },
  {
   "cell_type": "code",
   "execution_count": 83,
   "metadata": {},
   "outputs": [
    {
     "data": {
      "text/plain": [
       "280.8414099477571"
      ]
     },
     "execution_count": 83,
     "metadata": {},
     "output_type": "execute_result"
    }
   ],
   "source": [
    "metadata.loc[metadata[\"layer\"]==\"VISp_II/III\"][\"depth_um\"].mean()"
   ]
  },
  {
   "cell_type": "code",
   "execution_count": 84,
   "metadata": {},
   "outputs": [
    {
     "data": {
      "text/plain": [
       "775.9941428386185"
      ]
     },
     "execution_count": 84,
     "metadata": {},
     "output_type": "execute_result"
    }
   ],
   "source": [
    "metadata.loc[metadata[\"layer\"]==\"VISp_V\"][\"depth_um\"].mean()"
   ]
  },
  {
   "cell_type": "code",
   "execution_count": 85,
   "metadata": {},
   "outputs": [
    {
     "data": {
      "text/plain": [
       "1043.1176974356924"
      ]
     },
     "execution_count": 85,
     "metadata": {},
     "output_type": "execute_result"
    }
   ],
   "source": [
    "metadata.loc[metadata[\"layer\"]==\"VISp_VI\"][\"depth_um\"].mean()"
   ]
  },
  {
   "cell_type": "code",
   "execution_count": 88,
   "metadata": {},
   "outputs": [],
   "source": [
    "metadata.to_csv(\"annotated_smFISH_cells.csv\")"
   ]
  },
  {
   "cell_type": "code",
   "execution_count": 86,
   "metadata": {},
   "outputs": [
    {
     "data": {
      "text/plain": [
       "array(['VISp_VI', 'outside_VISp', 'VISp_IV', 'VISp_II/III', 'VISp_V',\n",
       "       'VISp_I'], dtype=object)"
      ]
     },
     "execution_count": 86,
     "metadata": {},
     "output_type": "execute_result"
    }
   ],
   "source": [
    "metadata[\"layer\"].unique()"
   ]
  },
  {
   "cell_type": "code",
   "execution_count": 87,
   "metadata": {},
   "outputs": [
    {
     "data": {
      "text/html": [
       "<div>\n",
       "<style scoped>\n",
       "    .dataframe tbody tr th:only-of-type {\n",
       "        vertical-align: middle;\n",
       "    }\n",
       "\n",
       "    .dataframe tbody tr th {\n",
       "        vertical-align: top;\n",
       "    }\n",
       "\n",
       "    .dataframe thead th {\n",
       "        text-align: right;\n",
       "    }\n",
       "</style>\n",
       "<table border=\"1\" class=\"dataframe\">\n",
       "  <thead>\n",
       "    <tr style=\"text-align: right;\">\n",
       "      <th></th>\n",
       "      <th>cell</th>\n",
       "      <th>x</th>\n",
       "      <th>y</th>\n",
       "      <th>has_center</th>\n",
       "      <th>cluster</th>\n",
       "      <th>n_transcripts</th>\n",
       "      <th>density</th>\n",
       "      <th>elongation</th>\n",
       "      <th>area</th>\n",
       "      <th>avg_confidence</th>\n",
       "      <th>doublet_score</th>\n",
       "      <th>x_um</th>\n",
       "      <th>y_um</th>\n",
       "      <th>layer</th>\n",
       "      <th>depth_um</th>\n",
       "    </tr>\n",
       "  </thead>\n",
       "  <tbody>\n",
       "    <tr>\n",
       "      <th>0</th>\n",
       "      <td>1</td>\n",
       "      <td>9261.035253</td>\n",
       "      <td>15447.259475</td>\n",
       "      <td>False</td>\n",
       "      <td>4</td>\n",
       "      <td>125</td>\n",
       "      <td>0.009866</td>\n",
       "      <td>1.936</td>\n",
       "      <td>12670.0000</td>\n",
       "      <td>0.9748</td>\n",
       "      <td>0.003106</td>\n",
       "      <td>926.103525</td>\n",
       "      <td>1544.725947</td>\n",
       "      <td>VISp_VI</td>\n",
       "      <td>957.787655</td>\n",
       "    </tr>\n",
       "    <tr>\n",
       "      <th>1</th>\n",
       "      <td>2</td>\n",
       "      <td>6019.329058</td>\n",
       "      <td>20710.346863</td>\n",
       "      <td>False</td>\n",
       "      <td>2</td>\n",
       "      <td>104</td>\n",
       "      <td>0.009236</td>\n",
       "      <td>2.842</td>\n",
       "      <td>11260.0000</td>\n",
       "      <td>0.9818</td>\n",
       "      <td>0.485300</td>\n",
       "      <td>601.932906</td>\n",
       "      <td>2071.034686</td>\n",
       "      <td>outside_VISp</td>\n",
       "      <td>1248.705103</td>\n",
       "    </tr>\n",
       "    <tr>\n",
       "      <th>2</th>\n",
       "      <td>3</td>\n",
       "      <td>7741.731519</td>\n",
       "      <td>9911.947365</td>\n",
       "      <td>False</td>\n",
       "      <td>6</td>\n",
       "      <td>22</td>\n",
       "      <td>0.009594</td>\n",
       "      <td>4.348</td>\n",
       "      <td>2293.0000</td>\n",
       "      <td>0.9821</td>\n",
       "      <td>NaN</td>\n",
       "      <td>774.173152</td>\n",
       "      <td>991.194737</td>\n",
       "      <td>VISp_IV</td>\n",
       "      <td>403.202494</td>\n",
       "    </tr>\n",
       "    <tr>\n",
       "      <th>3</th>\n",
       "      <td>4</td>\n",
       "      <td>20329.880690</td>\n",
       "      <td>7044.657880</td>\n",
       "      <td>False</td>\n",
       "      <td>5</td>\n",
       "      <td>388</td>\n",
       "      <td>0.016530</td>\n",
       "      <td>2.669</td>\n",
       "      <td>23470.0000</td>\n",
       "      <td>0.9969</td>\n",
       "      <td>0.904800</td>\n",
       "      <td>2032.988069</td>\n",
       "      <td>704.465788</td>\n",
       "      <td>outside_VISp</td>\n",
       "      <td>790.618254</td>\n",
       "    </tr>\n",
       "    <tr>\n",
       "      <th>4</th>\n",
       "      <td>5</td>\n",
       "      <td>15485.972999</td>\n",
       "      <td>8216.108509</td>\n",
       "      <td>False</td>\n",
       "      <td>5</td>\n",
       "      <td>220</td>\n",
       "      <td>0.014860</td>\n",
       "      <td>2.119</td>\n",
       "      <td>14800.0000</td>\n",
       "      <td>0.9966</td>\n",
       "      <td>0.157100</td>\n",
       "      <td>1548.597300</td>\n",
       "      <td>821.610851</td>\n",
       "      <td>VISp_IV</td>\n",
       "      <td>647.422891</td>\n",
       "    </tr>\n",
       "    <tr>\n",
       "      <th>...</th>\n",
       "      <td>...</td>\n",
       "      <td>...</td>\n",
       "      <td>...</td>\n",
       "      <td>...</td>\n",
       "      <td>...</td>\n",
       "      <td>...</td>\n",
       "      <td>...</td>\n",
       "      <td>...</td>\n",
       "      <td>...</td>\n",
       "      <td>...</td>\n",
       "      <td>...</td>\n",
       "      <td>...</td>\n",
       "      <td>...</td>\n",
       "      <td>...</td>\n",
       "      <td>...</td>\n",
       "    </tr>\n",
       "    <tr>\n",
       "      <th>4835</th>\n",
       "      <td>4836</td>\n",
       "      <td>17390.912435</td>\n",
       "      <td>3267.370712</td>\n",
       "      <td>False</td>\n",
       "      <td>1</td>\n",
       "      <td>4</td>\n",
       "      <td>17.850000</td>\n",
       "      <td>26.530</td>\n",
       "      <td>0.2241</td>\n",
       "      <td>1.0000</td>\n",
       "      <td>NaN</td>\n",
       "      <td>1739.091244</td>\n",
       "      <td>326.737071</td>\n",
       "      <td>outside_VISp</td>\n",
       "      <td>316.216598</td>\n",
       "    </tr>\n",
       "    <tr>\n",
       "      <th>4836</th>\n",
       "      <td>4837</td>\n",
       "      <td>4325.081324</td>\n",
       "      <td>7962.837675</td>\n",
       "      <td>False</td>\n",
       "      <td>1</td>\n",
       "      <td>13</td>\n",
       "      <td>0.049020</td>\n",
       "      <td>1.184</td>\n",
       "      <td>265.2000</td>\n",
       "      <td>0.9811</td>\n",
       "      <td>NaN</td>\n",
       "      <td>432.508132</td>\n",
       "      <td>796.283768</td>\n",
       "      <td>VISp_I</td>\n",
       "      <td>62.558653</td>\n",
       "    </tr>\n",
       "    <tr>\n",
       "      <th>4837</th>\n",
       "      <td>4838</td>\n",
       "      <td>12581.642786</td>\n",
       "      <td>5113.917122</td>\n",
       "      <td>False</td>\n",
       "      <td>2</td>\n",
       "      <td>3</td>\n",
       "      <td>0.089660</td>\n",
       "      <td>11.780</td>\n",
       "      <td>33.4600</td>\n",
       "      <td>0.9947</td>\n",
       "      <td>NaN</td>\n",
       "      <td>1258.164279</td>\n",
       "      <td>511.391712</td>\n",
       "      <td>VISp_II/III</td>\n",
       "      <td>233.059585</td>\n",
       "    </tr>\n",
       "    <tr>\n",
       "      <th>4838</th>\n",
       "      <td>4839</td>\n",
       "      <td>9971.579329</td>\n",
       "      <td>7095.964142</td>\n",
       "      <td>False</td>\n",
       "      <td>1</td>\n",
       "      <td>10</td>\n",
       "      <td>3.384000</td>\n",
       "      <td>29.350</td>\n",
       "      <td>2.9550</td>\n",
       "      <td>1.0000</td>\n",
       "      <td>NaN</td>\n",
       "      <td>997.157933</td>\n",
       "      <td>709.596414</td>\n",
       "      <td>VISp_II/III</td>\n",
       "      <td>272.538244</td>\n",
       "    </tr>\n",
       "    <tr>\n",
       "      <th>4839</th>\n",
       "      <td>4840</td>\n",
       "      <td>22398.800689</td>\n",
       "      <td>12760.935125</td>\n",
       "      <td>False</td>\n",
       "      <td>2</td>\n",
       "      <td>14</td>\n",
       "      <td>0.033250</td>\n",
       "      <td>1.355</td>\n",
       "      <td>421.0000</td>\n",
       "      <td>0.9998</td>\n",
       "      <td>NaN</td>\n",
       "      <td>2239.880069</td>\n",
       "      <td>1276.093512</td>\n",
       "      <td>outside_VISp</td>\n",
       "      <td>1388.553458</td>\n",
       "    </tr>\n",
       "  </tbody>\n",
       "</table>\n",
       "<p>4840 rows × 15 columns</p>\n",
       "</div>"
      ],
      "text/plain": [
       "      cell             x             y  has_center  cluster  n_transcripts  \\\n",
       "0        1   9261.035253  15447.259475       False        4            125   \n",
       "1        2   6019.329058  20710.346863       False        2            104   \n",
       "2        3   7741.731519   9911.947365       False        6             22   \n",
       "3        4  20329.880690   7044.657880       False        5            388   \n",
       "4        5  15485.972999   8216.108509       False        5            220   \n",
       "...    ...           ...           ...         ...      ...            ...   \n",
       "4835  4836  17390.912435   3267.370712       False        1              4   \n",
       "4836  4837   4325.081324   7962.837675       False        1             13   \n",
       "4837  4838  12581.642786   5113.917122       False        2              3   \n",
       "4838  4839   9971.579329   7095.964142       False        1             10   \n",
       "4839  4840  22398.800689  12760.935125       False        2             14   \n",
       "\n",
       "        density  elongation        area  avg_confidence  doublet_score  \\\n",
       "0      0.009866       1.936  12670.0000          0.9748       0.003106   \n",
       "1      0.009236       2.842  11260.0000          0.9818       0.485300   \n",
       "2      0.009594       4.348   2293.0000          0.9821            NaN   \n",
       "3      0.016530       2.669  23470.0000          0.9969       0.904800   \n",
       "4      0.014860       2.119  14800.0000          0.9966       0.157100   \n",
       "...         ...         ...         ...             ...            ...   \n",
       "4835  17.850000      26.530      0.2241          1.0000            NaN   \n",
       "4836   0.049020       1.184    265.2000          0.9811            NaN   \n",
       "4837   0.089660      11.780     33.4600          0.9947            NaN   \n",
       "4838   3.384000      29.350      2.9550          1.0000            NaN   \n",
       "4839   0.033250       1.355    421.0000          0.9998            NaN   \n",
       "\n",
       "             x_um         y_um         layer     depth_um  \n",
       "0      926.103525  1544.725947       VISp_VI   957.787655  \n",
       "1      601.932906  2071.034686  outside_VISp  1248.705103  \n",
       "2      774.173152   991.194737       VISp_IV   403.202494  \n",
       "3     2032.988069   704.465788  outside_VISp   790.618254  \n",
       "4     1548.597300   821.610851       VISp_IV   647.422891  \n",
       "...           ...          ...           ...          ...  \n",
       "4835  1739.091244   326.737071  outside_VISp   316.216598  \n",
       "4836   432.508132   796.283768        VISp_I    62.558653  \n",
       "4837  1258.164279   511.391712   VISp_II/III   233.059585  \n",
       "4838   997.157933   709.596414   VISp_II/III   272.538244  \n",
       "4839  2239.880069  1276.093512  outside_VISp  1388.553458  \n",
       "\n",
       "[4840 rows x 15 columns]"
      ]
     },
     "execution_count": 87,
     "metadata": {},
     "output_type": "execute_result"
    }
   ],
   "source": [
    "metadata"
   ]
  }
 ],
 "metadata": {
  "kernelspec": {
   "display_name": "Python 3",
   "language": "python",
   "name": "python3"
  },
  "language_info": {
   "codemirror_mode": {
    "name": "ipython",
    "version": 3
   },
   "file_extension": ".py",
   "mimetype": "text/x-python",
   "name": "python",
   "nbconvert_exporter": "python",
   "pygments_lexer": "ipython3",
   "version": "3.9.2"
  }
 },
 "nbformat": 4,
 "nbformat_minor": 2
}
